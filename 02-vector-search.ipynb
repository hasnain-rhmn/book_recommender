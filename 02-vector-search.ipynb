{
 "cells": [
  {
   "cell_type": "code",
   "execution_count": null,
   "id": "initial_id",
   "metadata": {
    "ExecuteTime": {
     "end_time": "2024-12-18T13:57:05.859939Z",
     "start_time": "2024-12-18T13:57:02.639571Z"
    },
    "collapsed": true
   },
   "outputs": [],
   "source": [
    "from langchain_community.document_loaders import TextLoader\n",
    "from langchain_text_splitters import CharacterTextSplitter\n",
    "from langchain_openai import OpenAIEmbeddings\n",
    "from langchain_chroma import Chroma\n",
    "import pandas as pd"
   ]
  },
  {
   "cell_type": "code",
   "execution_count": null,
   "id": "82d63bdf9df14bf1",
   "metadata": {
    "ExecuteTime": {
     "end_time": "2024-12-18T14:08:19.660599Z",
     "start_time": "2024-12-18T14:08:19.655723Z"
    }
   },
   "outputs": [
    {
     "data": {
      "text/plain": [
       "True"
      ]
     },
     "execution_count": 3,
     "metadata": {},
     "output_type": "execute_result"
    }
   ],
   "source": [
    "from dotenv import load_dotenv\n",
    "load_dotenv()"
   ]
  },
  {
   "cell_type": "code",
   "execution_count": null,
   "id": "6ff0e586e090548d",
   "metadata": {
    "ExecuteTime": {
     "end_time": "2024-12-18T14:10:26.475864Z",
     "start_time": "2024-12-18T14:10:25.692816Z"
    }
   },
   "outputs": [],
   "source": [
    "books = pd.read_csv(\"books_cleaned.csv\")"
   ]
  },
  {
   "cell_type": "code",
   "execution_count": null,
   "id": "3e76ee88029b25bc",
   "metadata": {
    "ExecuteTime": {
     "end_time": "2024-12-18T14:13:56.228918Z",
     "start_time": "2024-12-18T14:13:56.197263Z"
    }
   },
   "outputs": [],
   "source": [
    "(\n",
    "    books[\"tagged_description\"].\n",
    "    to_csv(\n",
    "        \"tagged_description.txt\",\n",
    "        sep = \"\\n\",\n",
    "        index = False,\n",
    "        header = False\n",
    "        )\n",
    ")"
   ]
  },
  {
   "cell_type": "code",
   "execution_count": null,
   "id": "91a69dfa983f662c",
   "metadata": {
    "ExecuteTime": {
     "end_time": "2024-12-18T14:16:29.022155Z",
     "start_time": "2024-12-18T14:16:27.694781Z"
    }
   },
   "outputs": [],
   "source": [
    "raw_documents = TextLoader(\"tagged_description.txt\").load()\n",
    "text_splitter = CharacterTextSplitter(chunk_size=0, chunk_overlap=0, separator=\"\\n\")\n",
    "documents = text_splitter.split_documents(raw_documents)"
   ]
  },
  {
   "cell_type": "code",
   "execution_count": 11,
   "id": "b380b8dce41e38b4",
   "metadata": {
    "ExecuteTime": {
     "end_time": "2024-12-18T14:24:38.294003Z",
     "start_time": "2024-12-18T14:24:13.712320Z"
    }
   },
   "outputs": [],
   "source": [
    "db_books = Chroma.from_documents(\n",
    "    documents,\n",
    "    embedding=OpenAIEmbeddings())"
   ]
  },
  {
   "cell_type": "code",
   "execution_count": null,
   "id": "3b2d8ddafa516035",
   "metadata": {
    "ExecuteTime": {
     "end_time": "2024-12-18T14:29:59.321356Z",
     "start_time": "2024-12-18T14:29:58.842976Z"
    }
   },
   "outputs": [],
   "source": [
    "query = \"A book to teach children about nature\"\n",
    "docs = db_books.similarity_search(query, k = 10)\n",
    "docs"
   ]
  },
  {
   "cell_type": "code",
   "execution_count": 13,
   "id": "3a56ab7d744a491b",
   "metadata": {
    "ExecuteTime": {
     "end_time": "2024-12-18T14:32:28.914055Z",
     "start_time": "2024-12-18T14:32:28.907403Z"
    }
   },
   "outputs": [
    {
     "data": {
      "text/html": [
       "<div>\n",
       "<style scoped>\n",
       "    .dataframe tbody tr th:only-of-type {\n",
       "        vertical-align: middle;\n",
       "    }\n",
       "\n",
       "    .dataframe tbody tr th {\n",
       "        vertical-align: top;\n",
       "    }\n",
       "\n",
       "    .dataframe thead th {\n",
       "        text-align: right;\n",
       "    }\n",
       "</style>\n",
       "<table border=\"1\" class=\"dataframe\">\n",
       "  <thead>\n",
       "    <tr style=\"text-align: right;\">\n",
       "      <th></th>\n",
       "      <th>isbn13</th>\n",
       "      <th>isbn10</th>\n",
       "      <th>title</th>\n",
       "      <th>authors</th>\n",
       "      <th>categories</th>\n",
       "      <th>thumbnail</th>\n",
       "      <th>description</th>\n",
       "      <th>published_year</th>\n",
       "      <th>average_rating</th>\n",
       "      <th>num_pages</th>\n",
       "      <th>ratings_count</th>\n",
       "      <th>title_and_subtitle</th>\n",
       "      <th>tagged_description</th>\n",
       "    </tr>\n",
       "  </thead>\n",
       "  <tbody>\n",
       "    <tr>\n",
       "      <th>3747</th>\n",
       "      <td>9780786808069</td>\n",
       "      <td>0786808063</td>\n",
       "      <td>Baby Einstein: Neighborhood Animals</td>\n",
       "      <td>Marilyn Singer;Julie Aigner-Clark</td>\n",
       "      <td>Juvenile Fiction</td>\n",
       "      <td>http://books.google.com/books/content?id=X9a4P...</td>\n",
       "      <td>Children will discover the exciting world of t...</td>\n",
       "      <td>2001.0</td>\n",
       "      <td>3.89</td>\n",
       "      <td>16.0</td>\n",
       "      <td>180.0</td>\n",
       "      <td>Baby Einstein: Neighborhood Animals</td>\n",
       "      <td>9780786808069 Children will discover the excit...</td>\n",
       "    </tr>\n",
       "  </tbody>\n",
       "</table>\n",
       "</div>"
      ],
      "text/plain": [
       "             isbn13      isbn10                                title  \\\n",
       "3747  9780786808069  0786808063  Baby Einstein: Neighborhood Animals   \n",
       "\n",
       "                                authors        categories  \\\n",
       "3747  Marilyn Singer;Julie Aigner-Clark  Juvenile Fiction   \n",
       "\n",
       "                                              thumbnail  \\\n",
       "3747  http://books.google.com/books/content?id=X9a4P...   \n",
       "\n",
       "                                            description  published_year  \\\n",
       "3747  Children will discover the exciting world of t...          2001.0   \n",
       "\n",
       "      average_rating  num_pages  ratings_count  \\\n",
       "3747            3.89       16.0          180.0   \n",
       "\n",
       "                       title_and_subtitle  \\\n",
       "3747  Baby Einstein: Neighborhood Animals   \n",
       "\n",
       "                                     tagged_description  \n",
       "3747  9780786808069 Children will discover the excit...  "
      ]
     },
     "execution_count": 13,
     "metadata": {},
     "output_type": "execute_result"
    }
   ],
   "source": [
    "books[books[\"isbn13\"] == int(docs[0].page_content.split()[0].strip())]"
   ]
  },
  {
   "cell_type": "code",
   "execution_count": 17,
   "id": "68ad68cec6312e42",
   "metadata": {
    "ExecuteTime": {
     "end_time": "2024-12-18T14:38:15.462448Z",
     "start_time": "2024-12-18T14:38:15.459747Z"
    }
   },
   "outputs": [],
   "source": [
    "def retrieve_semantic_recommendations(\n",
    "        query: str,\n",
    "        top_k: int = 10,\n",
    ") -> pd.DataFrame:\n",
    "    recs = db_books.similarity_search(query, k = top_k)\n",
    "\n",
    "    books_list = []\n",
    "\n",
    "    for i in range(0, len(recs)):\n",
    "        books_list += [int(recs[i].page_content.strip('\"').split()[0])]\n",
    "\n",
    "    return books[books[\"isbn13\"].isin(books_list)]"
   ]
  },
  {
   "cell_type": "code",
   "execution_count": null,
   "id": "cd36708b6a0877c0",
   "metadata": {
    "ExecuteTime": {
     "end_time": "2024-12-18T14:38:25.004597Z",
     "start_time": "2024-12-18T14:38:24.514120Z"
    }
   },
   "outputs": [],
   "source": [
    "retrieve_semantic_recommendations(\"A book about war and history\")"
   ]
  }
 ],
 "metadata": {
  "kernelspec": {
   "display_name": "book",
   "language": "python",
   "name": "python3"
  },
  "language_info": {
   "codemirror_mode": {
    "name": "ipython",
    "version": 3
   },
   "file_extension": ".py",
   "mimetype": "text/x-python",
   "name": "python",
   "nbconvert_exporter": "python",
   "pygments_lexer": "ipython3",
   "version": "3.11.9"
  }
 },
 "nbformat": 4,
 "nbformat_minor": 5
}
